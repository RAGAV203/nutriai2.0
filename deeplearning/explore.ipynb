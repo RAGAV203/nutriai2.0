{
 "cells": [
  {
   "attachments": {},
   "cell_type": "markdown",
   "metadata": {},
   "source": [
    "# Imports"
   ]
  },
  {
   "cell_type": "code",
   "execution_count": 33,
   "metadata": {},
   "outputs": [],
   "source": [
    "import pandas as pd\n",
    "import numpy as np\n",
    "import sklearn as skl\n",
    "from sklearn.model_selection import train_test_split\n",
    "import torch as th\n",
    "from torch import nn\n",
    "import torchmetrics\n",
    "from torch.utils.data import TensorDataset\n",
    "from torch.utils.data import DataLoader\n",
    "import matplotlib.pyplot as plt\n",
    "import requests\n",
    "import seaborn as sns\n",
    "from torchviz import make_dot"
   ]
  },
  {
   "cell_type": "code",
   "execution_count": 34,
   "metadata": {},
   "outputs": [],
   "source": [
    "df=pd.read_csv('./data/data.csv')"
   ]
  },
  {
   "attachments": {},
   "cell_type": "markdown",
   "metadata": {},
   "source": [
    "# EDA"
   ]
  },
  {
   "cell_type": "code",
   "execution_count": 35,
   "metadata": {},
   "outputs": [
    {
     "data": {
      "text/html": [
       "<div>\n",
       "<style scoped>\n",
       "    .dataframe tbody tr th:only-of-type {\n",
       "        vertical-align: middle;\n",
       "    }\n",
       "\n",
       "    .dataframe tbody tr th {\n",
       "        vertical-align: top;\n",
       "    }\n",
       "\n",
       "    .dataframe thead th {\n",
       "        text-align: right;\n",
       "    }\n",
       "</style>\n",
       "<table border=\"1\" class=\"dataframe\">\n",
       "  <thead>\n",
       "    <tr style=\"text-align: right;\">\n",
       "      <th></th>\n",
       "      <th>patient_age</th>\n",
       "      <th>patient_gender</th>\n",
       "      <th>Ht</th>\n",
       "      <th>Wt</th>\n",
       "      <th>HB</th>\n",
       "      <th>UREA</th>\n",
       "      <th>CR</th>\n",
       "      <th>Na</th>\n",
       "      <th>K</th>\n",
       "      <th>FBS</th>\n",
       "      <th>HBA1C</th>\n",
       "      <th>SGOT</th>\n",
       "      <th>SGPT</th>\n",
       "      <th>calories</th>\n",
       "      <th>cho</th>\n",
       "      <th>Fat</th>\n",
       "      <th>pro</th>\n",
       "      <th>fluids</th>\n",
       "      <th>NA</th>\n",
       "    </tr>\n",
       "  </thead>\n",
       "  <tbody>\n",
       "    <tr>\n",
       "      <th>0</th>\n",
       "      <td>64.0</td>\n",
       "      <td>0</td>\n",
       "      <td>155.0</td>\n",
       "      <td>60.0</td>\n",
       "      <td>12.73</td>\n",
       "      <td>106.59</td>\n",
       "      <td>0.91</td>\n",
       "      <td>135.0</td>\n",
       "      <td>4.1</td>\n",
       "      <td>83.0</td>\n",
       "      <td>7.75</td>\n",
       "      <td>22.8</td>\n",
       "      <td>24.8</td>\n",
       "      <td>1800.0</td>\n",
       "      <td>246.0</td>\n",
       "      <td>30.0</td>\n",
       "      <td>60.0</td>\n",
       "      <td>3.0</td>\n",
       "      <td>7.0</td>\n",
       "    </tr>\n",
       "    <tr>\n",
       "      <th>1</th>\n",
       "      <td>71.0</td>\n",
       "      <td>1</td>\n",
       "      <td>160.0</td>\n",
       "      <td>65.0</td>\n",
       "      <td>8.30</td>\n",
       "      <td>10.60</td>\n",
       "      <td>0.56</td>\n",
       "      <td>137.0</td>\n",
       "      <td>3.6</td>\n",
       "      <td>83.0</td>\n",
       "      <td>5.91</td>\n",
       "      <td>14.7</td>\n",
       "      <td>15.1</td>\n",
       "      <td>1600.0</td>\n",
       "      <td>220.0</td>\n",
       "      <td>26.6</td>\n",
       "      <td>52.0</td>\n",
       "      <td>2.8</td>\n",
       "      <td>6.0</td>\n",
       "    </tr>\n",
       "    <tr>\n",
       "      <th>2</th>\n",
       "      <td>23.0</td>\n",
       "      <td>0</td>\n",
       "      <td>165.0</td>\n",
       "      <td>74.0</td>\n",
       "      <td>10.60</td>\n",
       "      <td>14.40</td>\n",
       "      <td>0.75</td>\n",
       "      <td>136.0</td>\n",
       "      <td>4.2</td>\n",
       "      <td>83.0</td>\n",
       "      <td>5.80</td>\n",
       "      <td>14.3</td>\n",
       "      <td>13.5</td>\n",
       "      <td>2090.0</td>\n",
       "      <td>235.3</td>\n",
       "      <td>34.8</td>\n",
       "      <td>80.0</td>\n",
       "      <td>3.0</td>\n",
       "      <td>7.0</td>\n",
       "    </tr>\n",
       "    <tr>\n",
       "      <th>3</th>\n",
       "      <td>41.0</td>\n",
       "      <td>0</td>\n",
       "      <td>169.0</td>\n",
       "      <td>97.5</td>\n",
       "      <td>6.58</td>\n",
       "      <td>102.50</td>\n",
       "      <td>2.30</td>\n",
       "      <td>132.0</td>\n",
       "      <td>3.6</td>\n",
       "      <td>83.0</td>\n",
       "      <td>8.65</td>\n",
       "      <td>11.2</td>\n",
       "      <td>10.0</td>\n",
       "      <td>1770.0</td>\n",
       "      <td>243.0</td>\n",
       "      <td>29.5</td>\n",
       "      <td>66.3</td>\n",
       "      <td>3.3</td>\n",
       "      <td>5.0</td>\n",
       "    </tr>\n",
       "    <tr>\n",
       "      <th>4</th>\n",
       "      <td>54.0</td>\n",
       "      <td>0</td>\n",
       "      <td>158.0</td>\n",
       "      <td>75.0</td>\n",
       "      <td>12.76</td>\n",
       "      <td>107.17</td>\n",
       "      <td>0.97</td>\n",
       "      <td>135.0</td>\n",
       "      <td>4.1</td>\n",
       "      <td>83.0</td>\n",
       "      <td>5.14</td>\n",
       "      <td>22.8</td>\n",
       "      <td>24.8</td>\n",
       "      <td>1800.0</td>\n",
       "      <td>247.5</td>\n",
       "      <td>30.0</td>\n",
       "      <td>66.0</td>\n",
       "      <td>3.0</td>\n",
       "      <td>4.0</td>\n",
       "    </tr>\n",
       "  </tbody>\n",
       "</table>\n",
       "</div>"
      ],
      "text/plain": [
       "   patient_age  patient_gender     Ht    Wt     HB    UREA    CR     Na    K  \\\n",
       "0         64.0               0  155.0  60.0  12.73  106.59  0.91  135.0  4.1   \n",
       "1         71.0               1  160.0  65.0   8.30   10.60  0.56  137.0  3.6   \n",
       "2         23.0               0  165.0  74.0  10.60   14.40  0.75  136.0  4.2   \n",
       "3         41.0               0  169.0  97.5   6.58  102.50  2.30  132.0  3.6   \n",
       "4         54.0               0  158.0  75.0  12.76  107.17  0.97  135.0  4.1   \n",
       "\n",
       "    FBS  HBA1C  SGOT  SGPT  calories    cho   Fat   pro  fluids   NA  \n",
       "0  83.0   7.75  22.8  24.8    1800.0  246.0  30.0  60.0     3.0  7.0  \n",
       "1  83.0   5.91  14.7  15.1    1600.0  220.0  26.6  52.0     2.8  6.0  \n",
       "2  83.0   5.80  14.3  13.5    2090.0  235.3  34.8  80.0     3.0  7.0  \n",
       "3  83.0   8.65  11.2  10.0    1770.0  243.0  29.5  66.3     3.3  5.0  \n",
       "4  83.0   5.14  22.8  24.8    1800.0  247.5  30.0  66.0     3.0  4.0  "
      ]
     },
     "execution_count": 35,
     "metadata": {},
     "output_type": "execute_result"
    }
   ],
   "source": [
    "df.head()"
   ]
  },
  {
   "cell_type": "code",
   "execution_count": 36,
   "metadata": {},
   "outputs": [
    {
     "data": {
      "text/plain": [
       "(329, 19)"
      ]
     },
     "execution_count": 36,
     "metadata": {},
     "output_type": "execute_result"
    }
   ],
   "source": [
    "df.shape"
   ]
  },
  {
   "cell_type": "code",
   "execution_count": 37,
   "metadata": {},
   "outputs": [
    {
     "data": {
      "text/plain": [
       "Index(['patient_age', 'patient_gender', 'Ht', 'Wt', 'HB', 'UREA', 'CR', 'Na',\n",
       "       'K', 'FBS', 'HBA1C', 'SGOT', 'SGPT', 'calories', 'cho', 'Fat', 'pro',\n",
       "       'fluids', 'NA'],\n",
       "      dtype='object')"
      ]
     },
     "execution_count": 37,
     "metadata": {},
     "output_type": "execute_result"
    }
   ],
   "source": [
    "df.columns"
   ]
  },
  {
   "cell_type": "code",
   "execution_count": 38,
   "metadata": {},
   "outputs": [
    {
     "name": "stdout",
     "output_type": "stream",
     "text": [
      "<class 'pandas.core.frame.DataFrame'>\n",
      "RangeIndex: 329 entries, 0 to 328\n",
      "Data columns (total 19 columns):\n",
      " #   Column          Non-Null Count  Dtype  \n",
      "---  ------          --------------  -----  \n",
      " 0   patient_age     329 non-null    float64\n",
      " 1   patient_gender  329 non-null    int64  \n",
      " 2   Ht              329 non-null    float64\n",
      " 3   Wt              329 non-null    float64\n",
      " 4   HB              329 non-null    float64\n",
      " 5   UREA            329 non-null    float64\n",
      " 6   CR              329 non-null    float64\n",
      " 7   Na              329 non-null    float64\n",
      " 8   K               329 non-null    float64\n",
      " 9   FBS             329 non-null    float64\n",
      " 10  HBA1C           329 non-null    float64\n",
      " 11  SGOT            329 non-null    float64\n",
      " 12  SGPT            329 non-null    float64\n",
      " 13  calories        329 non-null    float64\n",
      " 14  cho             329 non-null    float64\n",
      " 15  Fat             329 non-null    float64\n",
      " 16  pro             329 non-null    float64\n",
      " 17  fluids          329 non-null    float64\n",
      " 18  NA              329 non-null    float64\n",
      "dtypes: float64(18), int64(1)\n",
      "memory usage: 49.0 KB\n"
     ]
    }
   ],
   "source": [
    "df.info()"
   ]
  },
  {
   "cell_type": "code",
   "execution_count": 39,
   "metadata": {},
   "outputs": [
    {
     "data": {
      "text/html": [
       "<div>\n",
       "<style scoped>\n",
       "    .dataframe tbody tr th:only-of-type {\n",
       "        vertical-align: middle;\n",
       "    }\n",
       "\n",
       "    .dataframe tbody tr th {\n",
       "        vertical-align: top;\n",
       "    }\n",
       "\n",
       "    .dataframe thead th {\n",
       "        text-align: right;\n",
       "    }\n",
       "</style>\n",
       "<table border=\"1\" class=\"dataframe\">\n",
       "  <thead>\n",
       "    <tr style=\"text-align: right;\">\n",
       "      <th></th>\n",
       "      <th>patient_age</th>\n",
       "      <th>patient_gender</th>\n",
       "      <th>Ht</th>\n",
       "      <th>Wt</th>\n",
       "      <th>HB</th>\n",
       "      <th>UREA</th>\n",
       "      <th>CR</th>\n",
       "      <th>Na</th>\n",
       "      <th>K</th>\n",
       "      <th>FBS</th>\n",
       "      <th>HBA1C</th>\n",
       "      <th>SGOT</th>\n",
       "      <th>SGPT</th>\n",
       "      <th>calories</th>\n",
       "      <th>cho</th>\n",
       "      <th>Fat</th>\n",
       "      <th>pro</th>\n",
       "      <th>fluids</th>\n",
       "      <th>NA</th>\n",
       "    </tr>\n",
       "  </thead>\n",
       "  <tbody>\n",
       "    <tr>\n",
       "      <th>count</th>\n",
       "      <td>329.000000</td>\n",
       "      <td>329.000000</td>\n",
       "      <td>329.000000</td>\n",
       "      <td>329.000000</td>\n",
       "      <td>329.000000</td>\n",
       "      <td>329.000000</td>\n",
       "      <td>329.000000</td>\n",
       "      <td>329.000000</td>\n",
       "      <td>329.000000</td>\n",
       "      <td>329.000000</td>\n",
       "      <td>329.000000</td>\n",
       "      <td>329.000000</td>\n",
       "      <td>329.000000</td>\n",
       "      <td>329.000000</td>\n",
       "      <td>329.000000</td>\n",
       "      <td>329.000000</td>\n",
       "      <td>329.000000</td>\n",
       "      <td>329.000000</td>\n",
       "      <td>329.000000</td>\n",
       "    </tr>\n",
       "    <tr>\n",
       "      <th>mean</th>\n",
       "      <td>55.428571</td>\n",
       "      <td>0.604863</td>\n",
       "      <td>159.799088</td>\n",
       "      <td>66.775015</td>\n",
       "      <td>13.308328</td>\n",
       "      <td>84.366748</td>\n",
       "      <td>1.037356</td>\n",
       "      <td>134.978723</td>\n",
       "      <td>4.088997</td>\n",
       "      <td>83.835866</td>\n",
       "      <td>6.498419</td>\n",
       "      <td>24.169301</td>\n",
       "      <td>26.142432</td>\n",
       "      <td>1666.217021</td>\n",
       "      <td>228.210534</td>\n",
       "      <td>27.164855</td>\n",
       "      <td>66.241033</td>\n",
       "      <td>2.793617</td>\n",
       "      <td>5.688073</td>\n",
       "    </tr>\n",
       "    <tr>\n",
       "      <th>std</th>\n",
       "      <td>18.665588</td>\n",
       "      <td>0.489625</td>\n",
       "      <td>6.554106</td>\n",
       "      <td>9.359885</td>\n",
       "      <td>2.169859</td>\n",
       "      <td>36.848712</td>\n",
       "      <td>0.790122</td>\n",
       "      <td>2.737973</td>\n",
       "      <td>0.348625</td>\n",
       "      <td>10.879767</td>\n",
       "      <td>1.930419</td>\n",
       "      <td>10.601355</td>\n",
       "      <td>12.546147</td>\n",
       "      <td>211.027498</td>\n",
       "      <td>28.428929</td>\n",
       "      <td>3.280000</td>\n",
       "      <td>7.349294</td>\n",
       "      <td>0.362733</td>\n",
       "      <td>1.826452</td>\n",
       "    </tr>\n",
       "    <tr>\n",
       "      <th>min</th>\n",
       "      <td>10.000000</td>\n",
       "      <td>0.000000</td>\n",
       "      <td>135.000000</td>\n",
       "      <td>25.900000</td>\n",
       "      <td>6.580000</td>\n",
       "      <td>10.000000</td>\n",
       "      <td>0.530000</td>\n",
       "      <td>124.000000</td>\n",
       "      <td>2.400000</td>\n",
       "      <td>83.000000</td>\n",
       "      <td>4.600000</td>\n",
       "      <td>7.500000</td>\n",
       "      <td>6.700000</td>\n",
       "      <td>1190.000000</td>\n",
       "      <td>164.000000</td>\n",
       "      <td>20.000000</td>\n",
       "      <td>43.000000</td>\n",
       "      <td>2.000000</td>\n",
       "      <td>0.000000</td>\n",
       "    </tr>\n",
       "    <tr>\n",
       "      <th>25%</th>\n",
       "      <td>42.000000</td>\n",
       "      <td>0.000000</td>\n",
       "      <td>156.000000</td>\n",
       "      <td>63.000000</td>\n",
       "      <td>12.300000</td>\n",
       "      <td>43.100000</td>\n",
       "      <td>0.860000</td>\n",
       "      <td>135.000000</td>\n",
       "      <td>4.100000</td>\n",
       "      <td>83.000000</td>\n",
       "      <td>5.280000</td>\n",
       "      <td>22.800000</td>\n",
       "      <td>24.800000</td>\n",
       "      <td>1520.000000</td>\n",
       "      <td>209.000000</td>\n",
       "      <td>25.000000</td>\n",
       "      <td>62.000000</td>\n",
       "      <td>2.600000</td>\n",
       "      <td>5.000000</td>\n",
       "    </tr>\n",
       "    <tr>\n",
       "      <th>50%</th>\n",
       "      <td>58.000000</td>\n",
       "      <td>1.000000</td>\n",
       "      <td>160.000000</td>\n",
       "      <td>68.000000</td>\n",
       "      <td>13.700000</td>\n",
       "      <td>106.050000</td>\n",
       "      <td>0.890000</td>\n",
       "      <td>135.000000</td>\n",
       "      <td>4.100000</td>\n",
       "      <td>83.000000</td>\n",
       "      <td>5.800000</td>\n",
       "      <td>22.800000</td>\n",
       "      <td>24.800000</td>\n",
       "      <td>1620.000000</td>\n",
       "      <td>221.000000</td>\n",
       "      <td>27.000000</td>\n",
       "      <td>67.000000</td>\n",
       "      <td>2.900000</td>\n",
       "      <td>6.000000</td>\n",
       "    </tr>\n",
       "    <tr>\n",
       "      <th>75%</th>\n",
       "      <td>70.000000</td>\n",
       "      <td>1.000000</td>\n",
       "      <td>163.500000</td>\n",
       "      <td>71.500000</td>\n",
       "      <td>14.810000</td>\n",
       "      <td>106.970000</td>\n",
       "      <td>0.960000</td>\n",
       "      <td>135.000000</td>\n",
       "      <td>4.100000</td>\n",
       "      <td>83.000000</td>\n",
       "      <td>6.970000</td>\n",
       "      <td>22.800000</td>\n",
       "      <td>24.800000</td>\n",
       "      <td>1800.000000</td>\n",
       "      <td>247.500000</td>\n",
       "      <td>30.000000</td>\n",
       "      <td>70.000000</td>\n",
       "      <td>3.000000</td>\n",
       "      <td>7.000000</td>\n",
       "    </tr>\n",
       "    <tr>\n",
       "      <th>max</th>\n",
       "      <td>94.000000</td>\n",
       "      <td>1.000000</td>\n",
       "      <td>180.000000</td>\n",
       "      <td>98.500000</td>\n",
       "      <td>17.300000</td>\n",
       "      <td>200.700000</td>\n",
       "      <td>9.780000</td>\n",
       "      <td>157.000000</td>\n",
       "      <td>6.700000</td>\n",
       "      <td>276.000000</td>\n",
       "      <td>14.600000</td>\n",
       "      <td>133.000000</td>\n",
       "      <td>170.000000</td>\n",
       "      <td>2400.000000</td>\n",
       "      <td>330.000000</td>\n",
       "      <td>36.000000</td>\n",
       "      <td>84.000000</td>\n",
       "      <td>3.500000</td>\n",
       "      <td>8.000000</td>\n",
       "    </tr>\n",
       "  </tbody>\n",
       "</table>\n",
       "</div>"
      ],
      "text/plain": [
       "       patient_age  patient_gender          Ht          Wt          HB  \\\n",
       "count   329.000000      329.000000  329.000000  329.000000  329.000000   \n",
       "mean     55.428571        0.604863  159.799088   66.775015   13.308328   \n",
       "std      18.665588        0.489625    6.554106    9.359885    2.169859   \n",
       "min      10.000000        0.000000  135.000000   25.900000    6.580000   \n",
       "25%      42.000000        0.000000  156.000000   63.000000   12.300000   \n",
       "50%      58.000000        1.000000  160.000000   68.000000   13.700000   \n",
       "75%      70.000000        1.000000  163.500000   71.500000   14.810000   \n",
       "max      94.000000        1.000000  180.000000   98.500000   17.300000   \n",
       "\n",
       "             UREA          CR          Na           K         FBS       HBA1C  \\\n",
       "count  329.000000  329.000000  329.000000  329.000000  329.000000  329.000000   \n",
       "mean    84.366748    1.037356  134.978723    4.088997   83.835866    6.498419   \n",
       "std     36.848712    0.790122    2.737973    0.348625   10.879767    1.930419   \n",
       "min     10.000000    0.530000  124.000000    2.400000   83.000000    4.600000   \n",
       "25%     43.100000    0.860000  135.000000    4.100000   83.000000    5.280000   \n",
       "50%    106.050000    0.890000  135.000000    4.100000   83.000000    5.800000   \n",
       "75%    106.970000    0.960000  135.000000    4.100000   83.000000    6.970000   \n",
       "max    200.700000    9.780000  157.000000    6.700000  276.000000   14.600000   \n",
       "\n",
       "             SGOT        SGPT     calories         cho         Fat  \\\n",
       "count  329.000000  329.000000   329.000000  329.000000  329.000000   \n",
       "mean    24.169301   26.142432  1666.217021  228.210534   27.164855   \n",
       "std     10.601355   12.546147   211.027498   28.428929    3.280000   \n",
       "min      7.500000    6.700000  1190.000000  164.000000   20.000000   \n",
       "25%     22.800000   24.800000  1520.000000  209.000000   25.000000   \n",
       "50%     22.800000   24.800000  1620.000000  221.000000   27.000000   \n",
       "75%     22.800000   24.800000  1800.000000  247.500000   30.000000   \n",
       "max    133.000000  170.000000  2400.000000  330.000000   36.000000   \n",
       "\n",
       "              pro      fluids          NA  \n",
       "count  329.000000  329.000000  329.000000  \n",
       "mean    66.241033    2.793617    5.688073  \n",
       "std      7.349294    0.362733    1.826452  \n",
       "min     43.000000    2.000000    0.000000  \n",
       "25%     62.000000    2.600000    5.000000  \n",
       "50%     67.000000    2.900000    6.000000  \n",
       "75%     70.000000    3.000000    7.000000  \n",
       "max     84.000000    3.500000    8.000000  "
      ]
     },
     "execution_count": 39,
     "metadata": {},
     "output_type": "execute_result"
    }
   ],
   "source": [
    "df.describe()"
   ]
  },
  {
   "cell_type": "code",
   "execution_count": 40,
   "metadata": {},
   "outputs": [
    {
     "data": {
      "text/plain": [
       "array([[<AxesSubplot:title={'center':'patient_age'}>,\n",
       "        <AxesSubplot:title={'center':'patient_gender'}>,\n",
       "        <AxesSubplot:title={'center':'Ht'}>,\n",
       "        <AxesSubplot:title={'center':'Wt'}>],\n",
       "       [<AxesSubplot:title={'center':'HB'}>,\n",
       "        <AxesSubplot:title={'center':'UREA'}>,\n",
       "        <AxesSubplot:title={'center':'CR'}>,\n",
       "        <AxesSubplot:title={'center':'Na'}>],\n",
       "       [<AxesSubplot:title={'center':'K'}>,\n",
       "        <AxesSubplot:title={'center':'FBS'}>,\n",
       "        <AxesSubplot:title={'center':'HBA1C'}>,\n",
       "        <AxesSubplot:title={'center':'SGOT'}>],\n",
       "       [<AxesSubplot:title={'center':'SGPT'}>,\n",
       "        <AxesSubplot:title={'center':'calories'}>,\n",
       "        <AxesSubplot:title={'center':'cho'}>,\n",
       "        <AxesSubplot:title={'center':'Fat'}>],\n",
       "       [<AxesSubplot:title={'center':'pro'}>,\n",
       "        <AxesSubplot:title={'center':'fluids'}>,\n",
       "        <AxesSubplot:title={'center':'NA'}>, <AxesSubplot:>]],\n",
       "      dtype=object)"
      ]
     },
     "execution_count": 40,
     "metadata": {},
     "output_type": "execute_result"
    },
    {
     "data": {
      "image/png": "[encoded data removed]",
      "text/plain": [
       "<Figure size 720x1080 with 20 Axes>"
      ]
     },
     "metadata": {
      "needs_background": "light"
     },
     "output_type": "display_data"
    }
   ],
   "source": [
    "df.hist(figsize=(10,15))\n"
   ]
  },
  {
   "cell_type": "code",
   "execution_count": 41,
   "metadata": {},
   "outputs": [
    {
     "data": {
      "text/plain": [
       "<AxesSubplot:>"
      ]
     },
     "execution_count": 41,
     "metadata": {},
     "output_type": "execute_result"
    },
    {
     "data": {
      "image/png": "[encoded data removed]",
      "text/plain": [
       "<Figure size 432x288 with 2 Axes>"
      ]
     },
     "metadata": {
      "needs_background": "light"
     },
     "output_type": "display_data"
    }
   ],
   "source": [
    "sns.heatmap(df.corr())"
   ]
  },
  {
   "attachments": {},
   "cell_type": "markdown",
   "metadata": {},
   "source": [
    "# Features, Targets"
   ]
  },
  {
   "cell_type": "code",
   "execution_count": 42,
   "metadata": {},
   "outputs": [],
   "source": [
    "x=df.drop(['calories','cho','Fat','pro','fluids','NA'],axis=1)\n",
    "y=df.iloc[:,13:]"
   ]
  },
  {
   "cell_type": "code",
   "execution_count": 43,
   "metadata": {},
   "outputs": [
    {
     "data": {
      "text/html": [
       "<div>\n",
       "<style scoped>\n",
       "    .dataframe tbody tr th:only-of-type {\n",
       "        vertical-align: middle;\n",
       "    }\n",
       "\n",
       "    .dataframe tbody tr th {\n",
       "        vertical-align: top;\n",
       "    }\n",
       "\n",
       "    .dataframe thead th {\n",
       "        text-align: right;\n",
       "    }\n",
       "</style>\n",
       "<table border=\"1\" class=\"dataframe\">\n",
       "  <thead>\n",
       "    <tr style=\"text-align: right;\">\n",
       "      <th></th>\n",
       "      <th>patient_age</th>\n",
       "      <th>patient_gender</th>\n",
       "      <th>Ht</th>\n",
       "      <th>Wt</th>\n",
       "      <th>HB</th>\n",
       "      <th>UREA</th>\n",
       "      <th>CR</th>\n",
       "      <th>Na</th>\n",
       "      <th>K</th>\n",
       "      <th>FBS</th>\n",
       "      <th>HBA1C</th>\n",
       "      <th>SGOT</th>\n",
       "      <th>SGPT</th>\n",
       "    </tr>\n",
       "  </thead>\n",
       "  <tbody>\n",
       "    <tr>\n",
       "      <th>0</th>\n",
       "      <td>64.0</td>\n",
       "      <td>0</td>\n",
       "      <td>155.0</td>\n",
       "      <td>60.0</td>\n",
       "      <td>12.73</td>\n",
       "      <td>106.59</td>\n",
       "      <td>0.91</td>\n",
       "      <td>135.0</td>\n",
       "      <td>4.1</td>\n",
       "      <td>83.0</td>\n",
       "      <td>7.75</td>\n",
       "      <td>22.8</td>\n",
       "      <td>24.8</td>\n",
       "    </tr>\n",
       "    <tr>\n",
       "      <th>1</th>\n",
       "      <td>71.0</td>\n",
       "      <td>1</td>\n",
       "      <td>160.0</td>\n",
       "      <td>65.0</td>\n",
       "      <td>8.30</td>\n",
       "      <td>10.60</td>\n",
       "      <td>0.56</td>\n",
       "      <td>137.0</td>\n",
       "      <td>3.6</td>\n",
       "      <td>83.0</td>\n",
       "      <td>5.91</td>\n",
       "      <td>14.7</td>\n",
       "      <td>15.1</td>\n",
       "    </tr>\n",
       "    <tr>\n",
       "      <th>2</th>\n",
       "      <td>23.0</td>\n",
       "      <td>0</td>\n",
       "      <td>165.0</td>\n",
       "      <td>74.0</td>\n",
       "      <td>10.60</td>\n",
       "      <td>14.40</td>\n",
       "      <td>0.75</td>\n",
       "      <td>136.0</td>\n",
       "      <td>4.2</td>\n",
       "      <td>83.0</td>\n",
       "      <td>5.80</td>\n",
       "      <td>14.3</td>\n",
       "      <td>13.5</td>\n",
       "    </tr>\n",
       "    <tr>\n",
       "      <th>3</th>\n",
       "      <td>41.0</td>\n",
       "      <td>0</td>\n",
       "      <td>169.0</td>\n",
       "      <td>97.5</td>\n",
       "      <td>6.58</td>\n",
       "      <td>102.50</td>\n",
       "      <td>2.30</td>\n",
       "      <td>132.0</td>\n",
       "      <td>3.6</td>\n",
       "      <td>83.0</td>\n",
       "      <td>8.65</td>\n",
       "      <td>11.2</td>\n",
       "      <td>10.0</td>\n",
       "    </tr>\n",
       "    <tr>\n",
       "      <th>4</th>\n",
       "      <td>54.0</td>\n",
       "      <td>0</td>\n",
       "      <td>158.0</td>\n",
       "      <td>75.0</td>\n",
       "      <td>12.76</td>\n",
       "      <td>107.17</td>\n",
       "      <td>0.97</td>\n",
       "      <td>135.0</td>\n",
       "      <td>4.1</td>\n",
       "      <td>83.0</td>\n",
       "      <td>5.14</td>\n",
       "      <td>22.8</td>\n",
       "      <td>24.8</td>\n",
       "    </tr>\n",
       "  </tbody>\n",
       "</table>\n",
       "</div>"
      ],
      "text/plain": [
       "   patient_age  patient_gender     Ht    Wt     HB    UREA    CR     Na    K  \\\n",
       "0         64.0               0  155.0  60.0  12.73  106.59  0.91  135.0  4.1   \n",
       "1         71.0               1  160.0  65.0   8.30   10.60  0.56  137.0  3.6   \n",
       "2         23.0               0  165.0  74.0  10.60   14.40  0.75  136.0  4.2   \n",
       "3         41.0               0  169.0  97.5   6.58  102.50  2.30  132.0  3.6   \n",
       "4         54.0               0  158.0  75.0  12.76  107.17  0.97  135.0  4.1   \n",
       "\n",
       "    FBS  HBA1C  SGOT  SGPT  \n",
       "0  83.0   7.75  22.8  24.8  \n",
       "1  83.0   5.91  14.7  15.1  \n",
       "2  83.0   5.80  14.3  13.5  \n",
       "3  83.0   8.65  11.2  10.0  \n",
       "4  83.0   5.14  22.8  24.8  "
      ]
     },
     "execution_count": 43,
     "metadata": {},
     "output_type": "execute_result"
    }
   ],
   "source": [
    "x.head()"
   ]
  },
  {
   "cell_type": "code",
   "execution_count": 44,
   "metadata": {},
   "outputs": [
    {
     "data": {
      "text/html": [
       "<div>\n",
       "<style scoped>\n",
       "    .dataframe tbody tr th:only-of-type {\n",
       "        vertical-align: middle;\n",
       "    }\n",
       "\n",
       "    .dataframe tbody tr th {\n",
       "        vertical-align: top;\n",
       "    }\n",
       "\n",
       "    .dataframe thead th {\n",
       "        text-align: right;\n",
       "    }\n",
       "</style>\n",
       "<table border=\"1\" class=\"dataframe\">\n",
       "  <thead>\n",
       "    <tr style=\"text-align: right;\">\n",
       "      <th></th>\n",
       "      <th>calories</th>\n",
       "      <th>cho</th>\n",
       "      <th>Fat</th>\n",
       "      <th>pro</th>\n",
       "      <th>fluids</th>\n",
       "      <th>NA</th>\n",
       "    </tr>\n",
       "  </thead>\n",
       "  <tbody>\n",
       "    <tr>\n",
       "      <th>0</th>\n",
       "      <td>1800.0</td>\n",
       "      <td>246.0</td>\n",
       "      <td>30.0</td>\n",
       "      <td>60.0</td>\n",
       "      <td>3.0</td>\n",
       "      <td>7.0</td>\n",
       "    </tr>\n",
       "    <tr>\n",
       "      <th>1</th>\n",
       "      <td>1600.0</td>\n",
       "      <td>220.0</td>\n",
       "      <td>26.6</td>\n",
       "      <td>52.0</td>\n",
       "      <td>2.8</td>\n",
       "      <td>6.0</td>\n",
       "    </tr>\n",
       "    <tr>\n",
       "      <th>2</th>\n",
       "      <td>2090.0</td>\n",
       "      <td>235.3</td>\n",
       "      <td>34.8</td>\n",
       "      <td>80.0</td>\n",
       "      <td>3.0</td>\n",
       "      <td>7.0</td>\n",
       "    </tr>\n",
       "    <tr>\n",
       "      <th>3</th>\n",
       "      <td>1770.0</td>\n",
       "      <td>243.0</td>\n",
       "      <td>29.5</td>\n",
       "      <td>66.3</td>\n",
       "      <td>3.3</td>\n",
       "      <td>5.0</td>\n",
       "    </tr>\n",
       "    <tr>\n",
       "      <th>4</th>\n",
       "      <td>1800.0</td>\n",
       "      <td>247.5</td>\n",
       "      <td>30.0</td>\n",
       "      <td>66.0</td>\n",
       "      <td>3.0</td>\n",
       "      <td>4.0</td>\n",
       "    </tr>\n",
       "  </tbody>\n",
       "</table>\n",
       "</div>"
      ],
      "text/plain": [
       "   calories    cho   Fat   pro  fluids   NA\n",
       "0    1800.0  246.0  30.0  60.0     3.0  7.0\n",
       "1    1600.0  220.0  26.6  52.0     2.8  6.0\n",
       "2    2090.0  235.3  34.8  80.0     3.0  7.0\n",
       "3    1770.0  243.0  29.5  66.3     3.3  5.0\n",
       "4    1800.0  247.5  30.0  66.0     3.0  4.0"
      ]
     },
     "execution_count": 44,
     "metadata": {},
     "output_type": "execute_result"
    }
   ],
   "source": [
    "y.head()"
   ]
  },
  {
   "attachments": {},
   "cell_type": "markdown",
   "metadata": {},
   "source": [
    "# Data Split"
   ]
  },
  {
   "cell_type": "code",
   "execution_count": 45,
   "metadata": {},
   "outputs": [],
   "source": [
    "x_train,x_test,y_train,y_test=train_test_split(x,y,test_size=0.2,random_state=42)\n",
    "x_train=th.tensor(x_train.values,dtype=th.float32)\n",
    "y_train=th.tensor(y_train.values,dtype=th.float32)\n",
    "x_test=th.tensor(x_test.values,dtype=th.float32)\n",
    "y_test=th.tensor(y_test.values,dtype=th.float32)"
   ]
  },
  {
   "attachments": {},
   "cell_type": "markdown",
   "metadata": {},
   "source": [
    "# to Torch Dataset"
   ]
  },
  {
   "cell_type": "code",
   "execution_count": 46,
   "metadata": {},
   "outputs": [],
   "source": [
    "train_data=TensorDataset(x_train,y_train,)\n",
    "test_data=TensorDataset(x_test,y_test)\n",
    "train_data=DataLoader(train_data,batch_size=12,drop_last=True)\n",
    "test_data=DataLoader(test_data,batch_size=1,drop_last=True)"
   ]
  },
  {
   "attachments": {},
   "cell_type": "markdown",
   "metadata": {},
   "source": [
    "# Model"
   ]
  },
  {
   "cell_type": "code",
   "execution_count": 47,
   "metadata": {},
   "outputs": [],
   "source": [
    "class NutriNet(nn.Module):\n",
    "    def __init__(self, input_features,output_features):\n",
    "        super().__init__()\n",
    "        self.block1=nn.Sequential(\n",
    "            nn.Linear(input_features,512),\n",
    "            nn.BatchNorm1d(512),\n",
    "            nn.ReLU(),\n",
    "            nn.Linear(512,512),\n",
    "            nn.BatchNorm1d(512),\n",
    "            nn.ReLU(),\n",
    "            nn.Linear(512,512),\n",
    "            nn.Dropout(0.25)\n",
    "        )\n",
    "        self.block2=nn.Sequential(\n",
    "            nn.Linear(512,256),\n",
    "            nn.BatchNorm1d(256),\n",
    "            nn.ReLU(),\n",
    "            nn.Linear(256,256),\n",
    "            nn.BatchNorm1d(256),\n",
    "            nn.ReLU(),\n",
    "            nn.Linear(256,256),\n",
    "            nn.Dropout(0.25)\n",
    "        )\n",
    "        self.block3=nn.Sequential(\n",
    "            nn.Linear(256,128),\n",
    "            nn.BatchNorm1d(128),\n",
    "            nn.ReLU(),\n",
    "            nn.Linear(128,128),\n",
    "            nn.BatchNorm1d(128),\n",
    "            nn.ReLU(),\n",
    "            nn.Linear(128,128),\n",
    "            nn.Dropout(0.25)\n",
    "        )\n",
    "        self.block4=nn.Sequential(\n",
    "            nn.Linear(128,64),\n",
    "            nn.BatchNorm1d(64),\n",
    "            nn.ReLU(),\n",
    "            nn.Linear(64,64),\n",
    "            nn.BatchNorm1d(64),\n",
    "            nn.ReLU(),\n",
    "            nn.Linear(64,64),\n",
    "            nn.Dropout(0.25)\n",
    "        )\n",
    "        self.block5=nn.Sequential(\n",
    "            nn.Linear(64,32),\n",
    "            nn.BatchNorm1d(32),\n",
    "            nn.ReLU(),\n",
    "            nn.Linear(32,32),\n",
    "            nn.BatchNorm1d(32),\n",
    "            nn.ReLU(),\n",
    "            nn.Linear(32,6),\n",
    "        )\n",
    "\n",
    "\n",
    "    def forward(self,x):\n",
    "        out=self.block1(x)\n",
    "        out=self.block2(out)\n",
    "        out=self.block3(out)\n",
    "        out=self.block4(out)\n",
    "        out=self.block5(out)\n",
    "        return out"
   ]
  },
  {
   "attachments": {},
   "cell_type": "markdown",
   "metadata": {},
   "source": [
    "# Hyper-Params"
   ]
  },
  {
   "cell_type": "code",
   "execution_count": 48,
   "metadata": {},
   "outputs": [],
   "source": [
    "LEARNING_RATE=0.001\n",
    "EPOCHS=300\n"
   ]
  },
  {
   "cell_type": "code",
   "execution_count": 49,
   "metadata": {},
   "outputs": [],
   "source": [
    "model= NutriNet(13,6)\n",
    "loss_fn=nn.L1Loss()\n",
    "optimizer=th.optim.Adam(model.parameters(),lr=LEARNING_RATE)\n",
    "accuracy=torchmetrics.Accuracy()"
   ]
  },
  {
   "attachments": {},
   "cell_type": "markdown",
   "metadata": {},
   "source": [
    "# Training Loop"
   ]
  },
  {
   "cell_type": "code",
   "execution_count": 50,
   "metadata": {},
   "outputs": [
    {
     "name": "stdout",
     "output_type": "stream",
     "text": [
      "loss:6978.93505859375\n",
      "loss:4847.1396484375\n",
      "loss:2070.489990234375\n"
     ]
    }
   ],
   "source": [
    "loss_graph=[]\n",
    "for i in range(EPOCHS):\n",
    "    model.train()\n",
    "    total_loss=0\n",
    "    total_acc=0\n",
    "    for x,y in train_data:\n",
    "        y_pred=model(x)\n",
    "        #print(y_pred)\n",
    "        loss=loss_fn(y_pred,y)\n",
    "        total_loss+=loss\n",
    "      \n",
    "        #acc=accuracy(y_pred,y)\n",
    "        #total_acc+=acc\n",
    "\n",
    "        optimizer.zero_grad()\n",
    "        loss.backward()\n",
    "        optimizer.step()\n",
    "    if i%100==0:\n",
    "        print(f'loss:{total_loss}')\n",
    "    loss_graph.append(total_loss.detach().numpy())"
   ]
  },
  {
   "cell_type": "code",
   "execution_count": 51,
   "metadata": {},
   "outputs": [],
   "source": [
    "it=iter(test_data)\n",
    "\n"
   ]
  },
  {
   "attachments": {},
   "cell_type": "markdown",
   "metadata": {},
   "source": [
    "# Testing Loop"
   ]
  },
  {
   "cell_type": "code",
   "execution_count": 87,
   "metadata": {},
   "outputs": [
    {
     "name": "stdout",
     "output_type": "stream",
     "text": [
      "input: tensor([[ 82.0000,   1.0000, 159.0000,  51.0000,  15.3800, 105.0100,   0.8500,\n",
      "         135.0000,   4.1000,  83.0000,   4.6600,  22.8000,  24.8000]])\n",
      "True Output:  tensor([[1330.0000,  182.0000,   22.0000,   51.0000,    3.3000,    4.0000]])\n",
      "prediction: tensor([[1515.2721,  200.6338,   24.9478,   61.3697,    2.7157,    5.0232]])\n",
      "Calories tensor(185.2721)\n",
      "Cho tensor(18.6338)\n",
      "fat tensor(2.9478)\n",
      "proteins tensor(10.3697)\n",
      "fluids tensor(0.5843)\n",
      "sodium tensor(1.0232)\n",
      "tensor([1515.2721,  200.6338,   24.9478,   61.3697,    2.7157,    5.0232]),tensor([1330.0000,  182.0000,   22.0000,   51.0000,    3.3000,    4.0000])\n",
      "tensor(0.9748)\n"
     ]
    }
   ],
   "source": [
    "model.eval()\n",
    "with th.inference_mode():\n",
    "    x,y=next(it)\n",
    "    print('input:',x)\n",
    "    print('True Output: ',y)\n",
    "    y_pred=model(x)\n",
    "    print('prediction:',y_pred)\n",
    "    print('Calories',loss_fn(y_pred.squeeze()[0],y.squeeze()[0]))\n",
    "    print('Cho',loss_fn(y_pred.squeeze()[1],y.squeeze()[1]))\n",
    "    print('fat',loss_fn(y_pred.squeeze()[2],y.squeeze()[2]))\n",
    "    print('proteins',loss_fn(y_pred.squeeze()[3],y.squeeze()[3]))\n",
    "    print('fluids',loss_fn(y_pred.squeeze()[4],y.squeeze()[4]))\n",
    "    print('sodium',loss_fn(y_pred.squeeze()[5],y.squeeze()[5]))\n",
    "\n",
    "    print(f'{y_pred[0]},{y[0]}')\n",
    "    print((torchmetrics.R2Score()(y_pred[0],y[0])))\n",
    "    "
   ]
  },
  {
   "cell_type": "code",
   "execution_count": 53,
   "metadata": {},
   "outputs": [
    {
     "data": {
      "text/plain": [
       "[<matplotlib.lines.Line2D at 0x179822c70>]"
      ]
     },
     "execution_count": 53,
     "metadata": {},
     "output_type": "execute_result"
    },
    {
     "data": {
      "image/png": "[encoded data removed]",
      "text/plain": [
       "<Figure size 432x288 with 1 Axes>"
      ]
     },
     "metadata": {
      "needs_background": "light"
     },
     "output_type": "display_data"
    }
   ],
   "source": [
    "plt.plot(loss_graph)"
   ]
  },
  {
   "cell_type": "code",
   "execution_count": 54,
   "metadata": {},
   "outputs": [],
   "source": [
    "th.save(model.state_dict(),'nutrinet_trained_1000.pth',_use_new_zipfile_serialization=False)"
   ]
  },
  {
   "attachments": {},
   "cell_type": "markdown",
   "metadata": {},
   "source": [
    "# Save Model"
   ]
  },
  {
   "cell_type": "code",
   "execution_count": 55,
   "metadata": {},
   "outputs": [
    {
     "data": {
      "text/plain": [
       "<All keys matched successfully>"
      ]
     },
     "execution_count": 55,
     "metadata": {},
     "output_type": "execute_result"
    }
   ],
   "source": [
    "the_model = NutriNet(13,6)\n",
    "the_model.load_state_dict(th.load('nutrinet_trained_1000.pth'))"
   ]
  },
  {
   "cell_type": "code",
   "execution_count": 56,
   "metadata": {},
   "outputs": [
    {
     "name": "stdout",
     "output_type": "stream",
     "text": [
      "input: tensor([[ 45.0000,   1.0000, 170.0000,  72.0000,  14.7600, 106.0800,   0.8600,\n",
      "         135.0000,   4.1000,  83.0000,   5.8000,  22.8000,  24.8000]])\n",
      "True Output:  tensor([[1940.0000,  266.0000,   32.0000,   72.0000,    2.9000,    8.0000]])\n",
      "prediction: tensor([[1701.6282,  239.9357,   28.3091,   68.8737,    2.8441,    6.3468]])\n",
      "Calories tensor(238.3718)\n",
      "Cho tensor(26.0643)\n",
      "fat tensor(3.6909)\n",
      "proteins tensor(3.1263)\n",
      "fluids tensor(0.0559)\n",
      "sodium tensor(1.6532)\n",
      "tensor([1701.6282,  239.9357,   28.3091,   68.8737,    2.8441,    6.3468]),tensor([1940.0000,  266.0000,   32.0000,   72.0000,    2.9000,    8.0000])\n",
      "tensor(0.9805)\n"
     ]
    }
   ],
   "source": [
    "the_model.eval()\n",
    "with th.inference_mode():\n",
    "    x,y=next(it)\n",
    "    print('input:',x)\n",
    "    print('True Output: ',y)\n",
    "    y_pred=the_model(x)\n",
    "    print('prediction:',y_pred)\n",
    "    print('Calories',loss_fn(y_pred.squeeze()[0],y.squeeze()[0]))\n",
    "    print('Cho',loss_fn(y_pred.squeeze()[1],y.squeeze()[1]))\n",
    "    print('fat',loss_fn(y_pred.squeeze()[2],y.squeeze()[2]))\n",
    "    print('proteins',loss_fn(y_pred.squeeze()[3],y.squeeze()[3]))\n",
    "    print('fluids',loss_fn(y_pred.squeeze()[4],y.squeeze()[4]))\n",
    "    print('sodium',loss_fn(y_pred.squeeze()[5],y.squeeze()[5]))\n",
    "\n",
    "    print(f'{y_pred[0]},{y[0]}')\n",
    "    print((torchmetrics.R2Score()(y_pred[0],y[0])))"
   ]
  },
  {
   "cell_type": "code",
   "execution_count": 57,
   "metadata": {},
   "outputs": [],
   "source": [
    "g=th.Tensor([ 49.0000,   0.0000, 154.0000,  61.0000,  12.3000,  22.2000,   0.7100,\n",
    "         136.0000,   4.7000,  83.0000,   4.9500,  16.8000,  15.7000])"
   ]
  },
  {
   "cell_type": "code",
   "execution_count": 58,
   "metadata": {},
   "outputs": [],
   "source": [
    "outs=the_model(g.unsqueeze(0))"
   ]
  },
  {
   "cell_type": "code",
   "execution_count": 59,
   "metadata": {},
   "outputs": [
    {
     "data": {
      "text/plain": [
       "[1489.1318359375,\n",
       " 209.4257049560547,\n",
       " 24.809707641601562,\n",
       " 61.58323287963867,\n",
       " 2.4977970123291016,\n",
       " 5.232020378112793]"
      ]
     },
     "execution_count": 59,
     "metadata": {},
     "output_type": "execute_result"
    }
   ],
   "source": [
    "outs.detach().numpy().squeeze().tolist()"
   ]
  },
  {
   "attachments": {},
   "cell_type": "markdown",
   "metadata": {},
   "source": [
    "# Make Viz"
   ]
  },
  {
   "cell_type": "code",
   "execution_count": 60,
   "metadata": {},
   "outputs": [
    {
     "data": {
      "text/plain": [
       "'nutrinet.png'"
      ]
     },
     "execution_count": 60,
     "metadata": {},
     "output_type": "execute_result"
    }
   ],
   "source": [
    "\n",
    "yt=the_model(g.unsqueeze(0))\n",
    "make_dot(yt.mean(),params=dict(list(model.named_parameters()))).render('nutrinet',format='png')"
   ]
  },
  {
   "attachments": {},
   "cell_type": "markdown",
   "metadata": {},
   "source": [
    "# Model Summary"
   ]
  },
  {
   "cell_type": "code",
   "execution_count": 61,
   "metadata": {},
   "outputs": [
    {
     "name": "stdout",
     "output_type": "stream",
     "text": [
      "NutriNet(\n",
      "  (block1): Sequential(\n",
      "    (0): Linear(in_features=13, out_features=512, bias=True)\n",
      "    (1): BatchNorm1d(512, eps=1e-05, momentum=0.1, affine=True, track_running_stats=True)\n",
      "    (2): ReLU()\n",
      "    (3): Linear(in_features=512, out_features=512, bias=True)\n",
      "    (4): BatchNorm1d(512, eps=1e-05, momentum=0.1, affine=True, track_running_stats=True)\n",
      "    (5): ReLU()\n",
      "    (6): Linear(in_features=512, out_features=512, bias=True)\n",
      "    (7): Dropout(p=0.25, inplace=False)\n",
      "  )\n",
      "  (block2): Sequential(\n",
      "    (0): Linear(in_features=512, out_features=256, bias=True)\n",
      "    (1): BatchNorm1d(256, eps=1e-05, momentum=0.1, affine=True, track_running_stats=True)\n",
      "    (2): ReLU()\n",
      "    (3): Linear(in_features=256, out_features=256, bias=True)\n",
      "    (4): BatchNorm1d(256, eps=1e-05, momentum=0.1, affine=True, track_running_stats=True)\n",
      "    (5): ReLU()\n",
      "    (6): Linear(in_features=256, out_features=256, bias=True)\n",
      "    (7): Dropout(p=0.25, inplace=False)\n",
      "  )\n",
      "  (block3): Sequential(\n",
      "    (0): Linear(in_features=256, out_features=128, bias=True)\n",
      "    (1): BatchNorm1d(128, eps=1e-05, momentum=0.1, affine=True, track_running_stats=True)\n",
      "    (2): ReLU()\n",
      "    (3): Linear(in_features=128, out_features=128, bias=True)\n",
      "    (4): BatchNorm1d(128, eps=1e-05, momentum=0.1, affine=True, track_running_stats=True)\n",
      "    (5): ReLU()\n",
      "    (6): Linear(in_features=128, out_features=128, bias=True)\n",
      "    (7): Dropout(p=0.25, inplace=False)\n",
      "  )\n",
      "  (block4): Sequential(\n",
      "    (0): Linear(in_features=128, out_features=64, bias=True)\n",
      "    (1): BatchNorm1d(64, eps=1e-05, momentum=0.1, affine=True, track_running_stats=True)\n",
      "    (2): ReLU()\n",
      "    (3): Linear(in_features=64, out_features=64, bias=True)\n",
      "    (4): BatchNorm1d(64, eps=1e-05, momentum=0.1, affine=True, track_running_stats=True)\n",
      "    (5): ReLU()\n",
      "    (6): Linear(in_features=64, out_features=64, bias=True)\n",
      "    (7): Dropout(p=0.25, inplace=False)\n",
      "  )\n",
      "  (block5): Sequential(\n",
      "    (0): Linear(in_features=64, out_features=32, bias=True)\n",
      "    (1): BatchNorm1d(32, eps=1e-05, momentum=0.1, affine=True, track_running_stats=True)\n",
      "    (2): ReLU()\n",
      "    (3): Linear(in_features=32, out_features=32, bias=True)\n",
      "    (4): BatchNorm1d(32, eps=1e-05, momentum=0.1, affine=True, track_running_stats=True)\n",
      "    (5): ReLU()\n",
      "    (6): Linear(in_features=32, out_features=6, bias=True)\n",
      "  )\n",
      ")\n"
     ]
    }
   ],
   "source": [
    "print(the_model)"
   ]
  },
  {
   "attachments": {},
   "cell_type": "markdown",
   "metadata": {},
   "source": [
    "# Test API End-Point"
   ]
  },
  {
   "cell_type": "code",
   "execution_count": 88,
   "metadata": {},
   "outputs": [],
   "source": [
    "#[ 49.0000,   0.0000, 154.0000,  61.0000,  12.3000,  22.2000,   0.7100, 136.0000,   4.7000,  83.0000,   4.9500,  16.8000,  15.7000]\n",
    "import requests\n",
    "send={\n",
    "    \"patient_age\":'49',\n",
    "    'patient_gender':'Female',\n",
    "    'height':'154',\n",
    "    'weight':'61',\n",
    "    'hb':'12.3',\n",
    "    'urea':'22.2',\n",
    "    'cr':'0.71',\n",
    "    'na':'136',\n",
    "    'potassium':'4.7',\n",
    "    'fbs':'83',\n",
    "    'hba1c':'4.95',\n",
    "    'sgot':'16.8',\n",
    "    'sgpt':'15.7'\n",
    "}"
   ]
  },
  {
   "cell_type": "code",
   "execution_count": 89,
   "metadata": {},
   "outputs": [],
   "source": [
    "r=requests.post('https://us-central1-global-snow-372118.cloudfunctions.net/nutrinet',json=send)\n"
   ]
  },
  {
   "cell_type": "code",
   "execution_count": 90,
   "metadata": {},
   "outputs": [
    {
     "data": {
      "text/plain": [
       "200"
      ]
     },
     "execution_count": 90,
     "metadata": {},
     "output_type": "execute_result"
    }
   ],
   "source": [
    "r.status_code"
   ]
  },
  {
   "cell_type": "code",
   "execution_count": 91,
   "metadata": {},
   "outputs": [
    {
     "data": {
      "text/plain": [
       "{'cal': 1622.23,\n",
       " 'cho': 222.39,\n",
       " 'fat': 26.79,\n",
       " 'fluids': 2.79,\n",
       " 'pro': 67.02,\n",
       " 'sodium': 5.5}"
      ]
     },
     "execution_count": 91,
     "metadata": {},
     "output_type": "execute_result"
    }
   ],
   "source": [
    "'''[1600.58740234375,\n",
    " 219.7861785888672,\n",
    " 26.41321563720703,\n",
    " 66.65478515625,\n",
    " 2.8155128955841064,\n",
    " 5.745589256286621]\n",
    "'''\n",
    "r.json()"
   ]
  }
 ],
 "metadata": {
  "kernelspec": {
   "display_name": "Python 3",
   "language": "python",
   "name": "python3"
  },
  "language_info": {
   "codemirror_mode": {
    "name": "ipython",
    "version": 3
   },
   "file_extension": ".py",
   "mimetype": "text/x-python",
   "name": "python",
   "nbconvert_exporter": "python",
   "pygments_lexer": "ipython3",
   "version": "3.8.9"
  },
  "orig_nbformat": 4,
  "vscode": {
   "interpreter": {
    "hash": "31f2aee4e71d21fbe5cf8b01ff0e069b9275f58929596ceb00d14d90e3e16cd6"
   }
  }
 },
 "nbformat": 4,
 "nbformat_minor": 2
}
